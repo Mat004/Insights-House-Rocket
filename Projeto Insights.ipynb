{
 "cells": [
  {
   "cell_type": "markdown",
   "id": "c6952baa",
   "metadata": {
    "heading_collapsed": true
   },
   "source": [
    "# 1 - Import"
   ]
  },
  {
   "cell_type": "code",
   "execution_count": 1,
   "id": "ea309d52",
   "metadata": {
    "ExecuteTime": {
     "end_time": "2021-12-19T15:46:37.098261Z",
     "start_time": "2021-12-19T15:46:35.515986Z"
    },
    "hidden": true
   },
   "outputs": [],
   "source": [
    "import pandas as pd\n",
    "import numpy as np\n",
    "import seaborn as sns\n",
    "import plotly.express as px\n",
    "import matplotlib.pyplot as plt\n",
    "from numpy import mean\n",
    "from tabulate import tabulate\n",
    "\n",
    "pd.set_option('display.float_format', '{:.2f}'.format)"
   ]
  },
  {
   "cell_type": "markdown",
   "id": "56f31d89",
   "metadata": {
    "heading_collapsed": true
   },
   "source": [
    "# 2 - Helper functions"
   ]
  },
  {
   "cell_type": "markdown",
   "id": "dc923ebc",
   "metadata": {
    "heading_collapsed": true,
    "hidden": true
   },
   "source": [
    "## 2.1 Get data"
   ]
  },
  {
   "cell_type": "code",
   "execution_count": 2,
   "id": "0384473d",
   "metadata": {
    "ExecuteTime": {
     "end_time": "2021-12-19T15:46:37.105550Z",
     "start_time": "2021-12-19T15:46:37.100642Z"
    },
    "hidden": true
   },
   "outputs": [],
   "source": [
    "def get_data (path):\n",
    "    \n",
    "    data = pd.read_csv(path)\n",
    "    \n",
    "    return data\n"
   ]
  },
  {
   "cell_type": "markdown",
   "id": "3135dccb",
   "metadata": {
    "heading_collapsed": true,
    "hidden": true
   },
   "source": [
    "## 2.2 Add columns and tabulation"
   ]
  },
  {
   "cell_type": "code",
   "execution_count": 3,
   "id": "040eee41",
   "metadata": {
    "ExecuteTime": {
     "end_time": "2021-12-19T15:46:37.124006Z",
     "start_time": "2021-12-19T15:46:37.108229Z"
    },
    "hidden": true
   },
   "outputs": [],
   "source": [
    "def add_columns(data):\n",
    "    \n",
    "    #Tipo de imóvel baseado na quantidade de quartos\n",
    "    data['domitory_type'] = data['bedrooms'].apply(lambda x: 'studio'     if x == 1 else\n",
    "                                                             'apartament' if x == 2 else 'house')\n",
    "    \n",
    "    #Condição do imóvel\n",
    "    data['condition_type'] = data['condition'].apply(lambda x: 'bad'     if  x <= 2 else \n",
    "                                                               'regular' if (x == 3) | (x == 4) else 'good')\n",
    "    \n",
    "    #Tamanho da sala\n",
    "    data['size'] = data['sqft_living'].apply(lambda x: 'size 0' if  x <= 1427 else\n",
    "                                                       'size 1' if (x > 1427) & (x <= 1910) else\n",
    "                                                       'size 2' if (x > 1910) & (x <= 2550) else 'size 3')\n",
    "    \n",
    "    #Imóvel renovado ou não\n",
    "    data['is_renovated'] = data['yr_renovated'].apply(lambda x: 'not renovated' if x == 0 else 'renovated')\n",
    "    \n",
    "    #Com ou sem vista para água\n",
    "    data['is_waterfront'] = data['waterfront'].apply(lambda x: 'yes' if x == 1 else 'no')\n",
    "    \n",
    "    #Idade do imóvel baseado no ano de construção\n",
    "    data['house_age'] = data['yr_built'].apply(lambda x: 'old' if x <= 2000 else 'new')\n",
    "    \n",
    "    #Extraindo o ano do campo \"date\"\n",
    "    data['date'] = pd.to_datetime(data['date'], format= '%Y-%m-%d')\n",
    "    data['yr_date'] = data['date'].apply(lambda x: x.year)\n",
    "    \n",
    "    #Extraindo o mês do campo \"date\"\n",
    "    data['month_date'] = data['date'].apply(lambda x: x.month)\n",
    "    \n",
    "    return data"
   ]
  },
  {
   "cell_type": "markdown",
   "id": "31155242",
   "metadata": {
    "heading_collapsed": true,
    "hidden": true
   },
   "source": [
    "## 2.3 Plotting"
   ]
  },
  {
   "cell_type": "code",
   "execution_count": 4,
   "id": "2e6ccf27",
   "metadata": {
    "ExecuteTime": {
     "end_time": "2021-12-19T15:46:37.148605Z",
     "start_time": "2021-12-19T15:46:37.127195Z"
    },
    "hidden": true
   },
   "outputs": [],
   "source": [
    "def plot_bar(data, x, y, hue=None, palette=None, estimator=mean):\n",
    "    \n",
    "    sns.set_theme()\n",
    "    fig, ax = plt.subplots(figsize=(10,8))\n",
    "    sns.barplot(data=data, x=x, y=y, estimator=estimator, hue=hue, palette=palette,ax=ax)\n",
    "    \n",
    "    return None\n",
    "    \n",
    "\n",
    "def plot_bar_hist(data, x, y, hue=None):\n",
    "    \n",
    "    fig, ax = plt.subplots(ncols=2, figsize=(15,8))\n",
    "    sns.barplot(data=data, x=x, y=y, hue=hue,ax=ax[0])\n",
    "    sns.histplot(data=data, x=y, kde=True, hue=hue, ax=ax[1])\n",
    "    \n",
    "    plt.show()\n",
    "    \n",
    "    return None\n",
    "\n",
    "def plot_count_hist(data, x, y, hue=None):\n",
    "    \n",
    "    fig, ax = plt.subplots(ncols=2, figsize=(15,8))\n",
    "    sns.countplot(data=data, x=x, ax=ax[0])\n",
    "    sns.histplot(data=data, x=y, kde=True, hue=hue, ax=ax[1])\n",
    "        \n",
    "    plt.show()\n",
    "    \n",
    "    return None\n",
    "    \n",
    "def plot_count_bar(data, x, y, hue=None, palette=None):\n",
    "    \n",
    "    fig, ax = plt.subplots(ncols=2, figsize=(15,8))\n",
    "    sns.countplot(data=data, x=x, hue=hue, palette=palette, ax=ax[0])\n",
    "    sns.barplot(data=data, x=x, y=y, estimator=mean, hue=hue, ax=ax[1])\n",
    "    \n",
    "    plt.show()\n",
    "    \n",
    "    return None"
   ]
  },
  {
   "cell_type": "markdown",
   "id": "a3258e6f",
   "metadata": {
    "heading_collapsed": true
   },
   "source": [
    "# 3 - Data description"
   ]
  },
  {
   "cell_type": "markdown",
   "id": "dc2b6583",
   "metadata": {
    "heading_collapsed": true,
    "hidden": true
   },
   "source": [
    "## 3.1 Dataframe"
   ]
  },
  {
   "cell_type": "code",
   "execution_count": 5,
   "id": "bcf5a137",
   "metadata": {
    "ExecuteTime": {
     "end_time": "2021-12-19T15:46:37.506875Z",
     "start_time": "2021-12-19T15:46:37.151349Z"
    },
    "hidden": true
   },
   "outputs": [
    {
     "data": {
      "text/html": [
       "<div>\n",
       "<style scoped>\n",
       "    .dataframe tbody tr th:only-of-type {\n",
       "        vertical-align: middle;\n",
       "    }\n",
       "\n",
       "    .dataframe tbody tr th {\n",
       "        vertical-align: top;\n",
       "    }\n",
       "\n",
       "    .dataframe thead th {\n",
       "        text-align: right;\n",
       "    }\n",
       "</style>\n",
       "<table border=\"1\" class=\"dataframe\">\n",
       "  <thead>\n",
       "    <tr style=\"text-align: right;\">\n",
       "      <th></th>\n",
       "      <th>id</th>\n",
       "      <th>date</th>\n",
       "      <th>price</th>\n",
       "      <th>bedrooms</th>\n",
       "      <th>bathrooms</th>\n",
       "      <th>sqft_living</th>\n",
       "      <th>sqft_lot</th>\n",
       "      <th>floors</th>\n",
       "      <th>waterfront</th>\n",
       "      <th>view</th>\n",
       "      <th>...</th>\n",
       "      <th>sqft_living15</th>\n",
       "      <th>sqft_lot15</th>\n",
       "      <th>domitory_type</th>\n",
       "      <th>condition_type</th>\n",
       "      <th>size</th>\n",
       "      <th>is_renovated</th>\n",
       "      <th>is_waterfront</th>\n",
       "      <th>house_age</th>\n",
       "      <th>yr_date</th>\n",
       "      <th>month_date</th>\n",
       "    </tr>\n",
       "  </thead>\n",
       "  <tbody>\n",
       "    <tr>\n",
       "      <th>0</th>\n",
       "      <td>7129300520</td>\n",
       "      <td>2014-10-13</td>\n",
       "      <td>221900.00</td>\n",
       "      <td>3</td>\n",
       "      <td>1.00</td>\n",
       "      <td>1180</td>\n",
       "      <td>5650</td>\n",
       "      <td>1.00</td>\n",
       "      <td>0</td>\n",
       "      <td>0</td>\n",
       "      <td>...</td>\n",
       "      <td>1340</td>\n",
       "      <td>5650</td>\n",
       "      <td>house</td>\n",
       "      <td>regular</td>\n",
       "      <td>size 0</td>\n",
       "      <td>not renovated</td>\n",
       "      <td>no</td>\n",
       "      <td>old</td>\n",
       "      <td>2014</td>\n",
       "      <td>10</td>\n",
       "    </tr>\n",
       "    <tr>\n",
       "      <th>1</th>\n",
       "      <td>6414100192</td>\n",
       "      <td>2014-12-09</td>\n",
       "      <td>538000.00</td>\n",
       "      <td>3</td>\n",
       "      <td>2.25</td>\n",
       "      <td>2570</td>\n",
       "      <td>7242</td>\n",
       "      <td>2.00</td>\n",
       "      <td>0</td>\n",
       "      <td>0</td>\n",
       "      <td>...</td>\n",
       "      <td>1690</td>\n",
       "      <td>7639</td>\n",
       "      <td>house</td>\n",
       "      <td>regular</td>\n",
       "      <td>size 3</td>\n",
       "      <td>renovated</td>\n",
       "      <td>no</td>\n",
       "      <td>old</td>\n",
       "      <td>2014</td>\n",
       "      <td>12</td>\n",
       "    </tr>\n",
       "    <tr>\n",
       "      <th>2</th>\n",
       "      <td>5631500400</td>\n",
       "      <td>2015-02-25</td>\n",
       "      <td>180000.00</td>\n",
       "      <td>2</td>\n",
       "      <td>1.00</td>\n",
       "      <td>770</td>\n",
       "      <td>10000</td>\n",
       "      <td>1.00</td>\n",
       "      <td>0</td>\n",
       "      <td>0</td>\n",
       "      <td>...</td>\n",
       "      <td>2720</td>\n",
       "      <td>8062</td>\n",
       "      <td>apartament</td>\n",
       "      <td>regular</td>\n",
       "      <td>size 0</td>\n",
       "      <td>not renovated</td>\n",
       "      <td>no</td>\n",
       "      <td>old</td>\n",
       "      <td>2015</td>\n",
       "      <td>2</td>\n",
       "    </tr>\n",
       "    <tr>\n",
       "      <th>3</th>\n",
       "      <td>2487200875</td>\n",
       "      <td>2014-12-09</td>\n",
       "      <td>604000.00</td>\n",
       "      <td>4</td>\n",
       "      <td>3.00</td>\n",
       "      <td>1960</td>\n",
       "      <td>5000</td>\n",
       "      <td>1.00</td>\n",
       "      <td>0</td>\n",
       "      <td>0</td>\n",
       "      <td>...</td>\n",
       "      <td>1360</td>\n",
       "      <td>5000</td>\n",
       "      <td>house</td>\n",
       "      <td>good</td>\n",
       "      <td>size 2</td>\n",
       "      <td>not renovated</td>\n",
       "      <td>no</td>\n",
       "      <td>old</td>\n",
       "      <td>2014</td>\n",
       "      <td>12</td>\n",
       "    </tr>\n",
       "    <tr>\n",
       "      <th>4</th>\n",
       "      <td>1954400510</td>\n",
       "      <td>2015-02-18</td>\n",
       "      <td>510000.00</td>\n",
       "      <td>3</td>\n",
       "      <td>2.00</td>\n",
       "      <td>1680</td>\n",
       "      <td>8080</td>\n",
       "      <td>1.00</td>\n",
       "      <td>0</td>\n",
       "      <td>0</td>\n",
       "      <td>...</td>\n",
       "      <td>1800</td>\n",
       "      <td>7503</td>\n",
       "      <td>house</td>\n",
       "      <td>regular</td>\n",
       "      <td>size 1</td>\n",
       "      <td>not renovated</td>\n",
       "      <td>no</td>\n",
       "      <td>old</td>\n",
       "      <td>2015</td>\n",
       "      <td>2</td>\n",
       "    </tr>\n",
       "  </tbody>\n",
       "</table>\n",
       "<p>5 rows × 29 columns</p>\n",
       "</div>"
      ],
      "text/plain": [
       "           id       date     price  bedrooms  bathrooms  sqft_living  \\\n",
       "0  7129300520 2014-10-13 221900.00         3       1.00         1180   \n",
       "1  6414100192 2014-12-09 538000.00         3       2.25         2570   \n",
       "2  5631500400 2015-02-25 180000.00         2       1.00          770   \n",
       "3  2487200875 2014-12-09 604000.00         4       3.00         1960   \n",
       "4  1954400510 2015-02-18 510000.00         3       2.00         1680   \n",
       "\n",
       "   sqft_lot  floors  waterfront  view  ...  sqft_living15  sqft_lot15  \\\n",
       "0      5650    1.00           0     0  ...           1340        5650   \n",
       "1      7242    2.00           0     0  ...           1690        7639   \n",
       "2     10000    1.00           0     0  ...           2720        8062   \n",
       "3      5000    1.00           0     0  ...           1360        5000   \n",
       "4      8080    1.00           0     0  ...           1800        7503   \n",
       "\n",
       "   domitory_type  condition_type    size   is_renovated  is_waterfront  \\\n",
       "0          house         regular  size 0  not renovated             no   \n",
       "1          house         regular  size 3      renovated             no   \n",
       "2     apartament         regular  size 0  not renovated             no   \n",
       "3          house            good  size 2  not renovated             no   \n",
       "4          house         regular  size 1  not renovated             no   \n",
       "\n",
       "   house_age  yr_date  month_date  \n",
       "0        old     2014          10  \n",
       "1        old     2014          12  \n",
       "2        old     2015           2  \n",
       "3        old     2014          12  \n",
       "4        old     2015           2  \n",
       "\n",
       "[5 rows x 29 columns]"
      ]
     },
     "execution_count": 5,
     "metadata": {},
     "output_type": "execute_result"
    }
   ],
   "source": [
    "# Carregando os dados\n",
    "data = get_data('kc_house_data.csv')\n",
    "\n",
    "\n",
    "#Adicionando colunas\n",
    "add_columns(data)\n",
    "\n",
    "data.head()"
   ]
  },
  {
   "cell_type": "markdown",
   "id": "87190d38",
   "metadata": {
    "heading_collapsed": true,
    "hidden": true
   },
   "source": [
    "## 3.2 Columns"
   ]
  },
  {
   "cell_type": "code",
   "execution_count": 6,
   "id": "6904dd9c",
   "metadata": {
    "ExecuteTime": {
     "end_time": "2021-12-19T15:46:37.516143Z",
     "start_time": "2021-12-19T15:46:37.509096Z"
    },
    "hidden": true
   },
   "outputs": [
    {
     "data": {
      "text/plain": [
       "Index(['id', 'date', 'price', 'bedrooms', 'bathrooms', 'sqft_living',\n",
       "       'sqft_lot', 'floors', 'waterfront', 'view', 'condition', 'grade',\n",
       "       'sqft_above', 'sqft_basement', 'yr_built', 'yr_renovated', 'zipcode',\n",
       "       'lat', 'long', 'sqft_living15', 'sqft_lot15', 'domitory_type',\n",
       "       'condition_type', 'size', 'is_renovated', 'is_waterfront', 'house_age',\n",
       "       'yr_date', 'month_date'],\n",
       "      dtype='object')"
      ]
     },
     "execution_count": 6,
     "metadata": {},
     "output_type": "execute_result"
    }
   ],
   "source": [
    "data.columns"
   ]
  },
  {
   "cell_type": "markdown",
   "id": "090edd44",
   "metadata": {
    "hidden": true
   },
   "source": [
    "Descrição\n",
    "\n",
    "    • id: Notação para cada imóvel\n",
    "    • date: Data de venda da imóvel\n",
    "    • price: Preço de venda da imóvel\n",
    "    • bedrooms: Número de quartos\n",
    "    • bathrooms: Número de banheiros\n",
    "    • sqft_living: Metragem quadrada da sala de estar\n",
    "    • sqrt_log: Metragem quadrada do lote\n",
    "    • floors: Quantidade de andares\n",
    "    • waterfront: Vista para a água\n",
    "    • view: Foi visualizado\n",
    "    • condition: Condição do imóvel\n",
    "    • grade: Nota geral dada à unidade habitacional\n",
    "    • sqft_above: Metragem quadrada do imóvel\n",
    "    • sqft_basement: Metragem quadrada do porão\n",
    "    • yr_built: Ano de construção\n",
    "    • yr_renovated: Ano em que o imóvel foi reformado\n",
    "    • zipcode: Código postal\n",
    "    • lat: Latitude\n",
    "    • long: Longitude\n",
    "    • sqft_living15: Metragem quadrada da sala de estar em 2015 (implica em algumas renovações)\n",
    "    • sqrt_lot15: Metragem quadrada do lote em 2015 (implica em algumas renovações)\n",
    "    • dormitory_type: Classificação do imóvel baseado na quantidade de quartos\n",
    "    • condition_type: Classificação da condição de conversação do imóvel\n",
    "    • size: Classificação do tamanho do imóvel baseado no tamanho da sala de estar\n",
    "    • is_renovated: Se o imóvel foi reformado ou não\n",
    "    • is_waterfront: Se o imóvel possui vista para a água\n",
    "    • house_age: Classificação do imóvel se é antigo (old) ou novo (new)\n",
    "    • yr_date: Ano da data de venda do imóvel\n",
    "    • month_date: Mês da data de venda do imóvel"
   ]
  },
  {
   "cell_type": "markdown",
   "id": "184abca3",
   "metadata": {
    "heading_collapsed": true,
    "hidden": true
   },
   "source": [
    "## 3.3 Data dimension"
   ]
  },
  {
   "cell_type": "code",
   "execution_count": 7,
   "id": "9d0d2e1e",
   "metadata": {
    "ExecuteTime": {
     "end_time": "2021-12-19T15:46:37.534768Z",
     "start_time": "2021-12-19T15:46:37.518452Z"
    },
    "hidden": true
   },
   "outputs": [
    {
     "name": "stdout",
     "output_type": "stream",
     "text": [
      "A quantidade de linhas do dataframe é: 21613\n",
      "A quantidade de colunas do dataframe é: 29\n"
     ]
    }
   ],
   "source": [
    "print(f'A quantidade de linhas do dataframe é: {data.shape[0]}')\n",
    "print(f'A quantidade de colunas do dataframe é: {data.shape[1]}')"
   ]
  },
  {
   "cell_type": "markdown",
   "id": "9614706a",
   "metadata": {
    "heading_collapsed": true,
    "hidden": true
   },
   "source": [
    "## 3.4 Data types"
   ]
  },
  {
   "cell_type": "code",
   "execution_count": 8,
   "id": "5c70af88",
   "metadata": {
    "ExecuteTime": {
     "end_time": "2021-12-19T15:46:37.555097Z",
     "start_time": "2021-12-19T15:46:37.539046Z"
    },
    "hidden": true,
    "scrolled": false
   },
   "outputs": [
    {
     "data": {
      "text/plain": [
       "id                         int64\n",
       "date              datetime64[ns]\n",
       "price                    float64\n",
       "bedrooms                   int64\n",
       "bathrooms                float64\n",
       "sqft_living                int64\n",
       "sqft_lot                   int64\n",
       "floors                   float64\n",
       "waterfront                 int64\n",
       "view                       int64\n",
       "condition                  int64\n",
       "grade                      int64\n",
       "sqft_above                 int64\n",
       "sqft_basement              int64\n",
       "yr_built                   int64\n",
       "yr_renovated               int64\n",
       "zipcode                    int64\n",
       "lat                      float64\n",
       "long                     float64\n",
       "sqft_living15              int64\n",
       "sqft_lot15                 int64\n",
       "domitory_type             object\n",
       "condition_type            object\n",
       "size                      object\n",
       "is_renovated              object\n",
       "is_waterfront             object\n",
       "house_age                 object\n",
       "yr_date                    int64\n",
       "month_date                 int64\n",
       "dtype: object"
      ]
     },
     "execution_count": 8,
     "metadata": {},
     "output_type": "execute_result"
    }
   ],
   "source": [
    "data.dtypes"
   ]
  },
  {
   "cell_type": "markdown",
   "id": "8808f776",
   "metadata": {
    "heading_collapsed": true
   },
   "source": [
    "# 4 - Hypotheses\n",
    "\n",
    "- H1: Imóveis com vista para a água são 30% mais caros, na média\n",
    "- H2: Imóveis com data de construção menor que 1955 são 50% mais baratos, na média\n",
    "- H3: Imóveis sem porão, são 50% maiores que com porão\n",
    "- H4: O crescimento do preço dos imóveis YoY é de 10%\n",
    "- H5: Imóveis com 3 banheiros tem um crescimento MoM de 15%\n",
    "- H6: A maioria dos imóveis com vista para a água possuem estado de conservação \"good\"\n",
    "- H7: Imóveis mais novos possuem preço médio maior\n",
    "- H8: Imóveis com 2 andares possuem preço médio maior que a mediana\n",
    "- H9: Imóvel antigo com reforma feita, são mais caros que aqueles sem reforma\n",
    "- H10: "
   ]
  },
  {
   "cell_type": "markdown",
   "id": "dc623b44",
   "metadata": {
    "heading_collapsed": true
   },
   "source": [
    "# 5 - Exploratory data analysis"
   ]
  },
  {
   "cell_type": "markdown",
   "id": "47350748",
   "metadata": {
    "heading_collapsed": true,
    "hidden": true
   },
   "source": [
    "## H1 - Imóveis com vista para a água são 30% mais caros, na média\n",
    "Falso"
   ]
  },
  {
   "cell_type": "code",
   "execution_count": 28,
   "id": "8977cc15",
   "metadata": {
    "ExecuteTime": {
     "end_time": "2021-12-19T15:46:55.458604Z",
     "start_time": "2021-12-19T15:46:55.268482Z"
    },
    "hidden": true,
    "scrolled": false
   },
   "outputs": [
    {
     "name": "stdout",
     "output_type": "stream",
     "text": [
      "\n",
      "Imóveis com vista para a água são 212.64% mais caros que os imóveis sem vista.\n"
     ]
    },
    {
     "data": {
      "image/png": "[encoded data removed]",
      "text/plain": [
       "<Figure size 720x576 with 1 Axes>"
      ]
     },
     "metadata": {},
     "output_type": "display_data"
    }
   ],
   "source": [
    "df1 = data.groupby('is_waterfront')['price'].mean().reset_index()\n",
    "df1['%'] = df1['price'].pct_change()\n",
    "\n",
    "porcen = (df1['%'][1])*100\n",
    "\n",
    "print('\\n'f'Imóveis com vista para a água são {porcen:.2f}% mais caros que os imóveis sem vista.')\n",
    "\n",
    "plot_bar(df1, 'is_waterfront', 'price')"
   ]
  },
  {
   "cell_type": "markdown",
   "id": "881a7873",
   "metadata": {
    "heading_collapsed": true,
    "hidden": true
   },
   "source": [
    "## H2 - Imóveis com data de construção menor que 1955 são 50% mais baratos, na média\n",
    "Falso"
   ]
  },
  {
   "cell_type": "code",
   "execution_count": 30,
   "id": "0fcb485f",
   "metadata": {
    "ExecuteTime": {
     "end_time": "2021-12-19T15:47:40.735147Z",
     "start_time": "2021-12-19T15:47:38.174589Z"
    },
    "hidden": true
   },
   "outputs": [
    {
     "name": "stdout",
     "output_type": "stream",
     "text": [
      "\n",
      "Os imóveis com ano de construção menor que 1955 possuem valor 1.78% menor que os imóveis acima desse ano.\n"
     ]
    },
    {
     "data": {
      "image/png": "[encoded data removed]",
      "text/plain": [
       "<Figure size 1080x576 with 2 Axes>"
      ]
     },
     "metadata": {},
     "output_type": "display_data"
    }
   ],
   "source": [
    "df2 = data.copy()\n",
    "df2['yr_built_analysis'] = df2['yr_built'].apply(lambda x: '<= 1955' if x <= 1955 else '> 1955')\n",
    "\n",
    "df2_aux = df2.groupby('yr_built_analysis')['price'].mean().reset_index()\n",
    "df2_aux['%'] = df2_aux['price'].pct_change()\n",
    "\n",
    "porcen_df2 = (df2_aux['%'][1])*100\n",
    "\n",
    "print('\\n'f'Os imóveis com ano de construção menor que 1955 possuem valor {porcen_df2:.2f}% menor que os imóveis acima desse ano.')\n",
    "\n",
    "plot_bar_hist(df2, 'yr_built_analysis', 'price', 'yr_built_analysis')"
   ]
  },
  {
   "cell_type": "markdown",
   "id": "00410ba1",
   "metadata": {
    "heading_collapsed": true,
    "hidden": true
   },
   "source": [
    "## H3 - Imóveis sem porão são 50% maiores que com porão\n",
    "Falso"
   ]
  },
  {
   "cell_type": "code",
   "execution_count": 31,
   "id": "ce41809d",
   "metadata": {
    "ExecuteTime": {
     "end_time": "2021-12-19T15:47:59.822078Z",
     "start_time": "2021-12-19T15:47:57.216748Z"
    },
    "hidden": true
   },
   "outputs": [
    {
     "name": "stdout",
     "output_type": "stream",
     "text": [
      "A média do tamanho do imóvel sem porão é de: 1928.88\n",
      "A média do tamanho do imóvel com porão é de: 1571.11\n",
      "\n",
      "Imóveis sem porão são 22.77% maiores que imóveis com porão.\n"
     ]
    },
    {
     "data": {
      "image/png": "[encoded data removed]",
      "text/plain": [
       "<Figure size 1080x576 with 2 Axes>"
      ]
     },
     "metadata": {},
     "output_type": "display_data"
    }
   ],
   "source": [
    "df3 = data.copy()\n",
    "df3['basement'] = df3['sqft_basement'].apply(lambda x: 'without_basement' if x == 0 else 'with_basement')\n",
    "\n",
    "no_basement = data.loc[data['sqft_basement'] == 0, 'sqft_above'].mean()\n",
    "with_basement = data.loc[data['sqft_basement'] > 0, 'sqft_above'].mean()\n",
    "dif = ((no_basement/with_basement)-1)*100\n",
    "\n",
    "print(f'A média do tamanho do imóvel sem porão é de: {no_basement:.2f}')\n",
    "print(f'A média do tamanho do imóvel com porão é de: {with_basement:.2f}')\n",
    "\n",
    "print('\\n'f'Imóveis sem porão são {dif:.2f}% maiores que imóveis com porão.')\n",
    "\n",
    "plot_bar_hist(df3, 'basement', 'price', 'basement')"
   ]
  },
  {
   "cell_type": "markdown",
   "id": "7d739181",
   "metadata": {
    "heading_collapsed": true,
    "hidden": true
   },
   "source": [
    "## H4 - O crescimento do preço dos imóveis YoY é de 10%\n",
    "Falso"
   ]
  },
  {
   "cell_type": "code",
   "execution_count": 32,
   "id": "0e7de6e1",
   "metadata": {
    "ExecuteTime": {
     "end_time": "2021-12-19T15:48:35.593652Z",
     "start_time": "2021-12-19T15:48:35.208994Z"
    },
    "hidden": true
   },
   "outputs": [
    {
     "name": "stdout",
     "output_type": "stream",
     "text": [
      "\n",
      "O crescimento do preço dos imóveis YoY é de 0.52%\n"
     ]
    },
    {
     "data": {
      "image/png": "[encoded data removed]",
      "text/plain": [
       "<Figure size 720x576 with 1 Axes>"
      ]
     },
     "metadata": {},
     "output_type": "display_data"
    }
   ],
   "source": [
    "df4 = data.groupby('yr_date')['price'].mean().reset_index()\n",
    "df4['%'] = df4['price'].pct_change()\n",
    "\n",
    "dif_df4 = (df4['%'][1])*100\n",
    "\n",
    "print('\\n'f'O crescimento do preço dos imóveis YoY é de {dif_df4:.2f}%')\n",
    "\n",
    "plot_bar(data, 'yr_date', 'price')"
   ]
  },
  {
   "cell_type": "markdown",
   "id": "26de8f95",
   "metadata": {
    "heading_collapsed": true,
    "hidden": true
   },
   "source": [
    "## H5 - Imóveis com 3 banheiros tem um crescimento MoM de 15%\n",
    " Falso"
   ]
  },
  {
   "cell_type": "code",
   "execution_count": 20,
   "id": "98600d28",
   "metadata": {
    "ExecuteTime": {
     "end_time": "2021-12-19T15:46:45.718660Z",
     "start_time": "2021-12-19T15:46:45.683495Z"
    },
    "hidden": true
   },
   "outputs": [
    {
     "data": {
      "text/html": [
       "<div>\n",
       "<style scoped>\n",
       "    .dataframe tbody tr th:only-of-type {\n",
       "        vertical-align: middle;\n",
       "    }\n",
       "\n",
       "    .dataframe tbody tr th {\n",
       "        vertical-align: top;\n",
       "    }\n",
       "\n",
       "    .dataframe thead th {\n",
       "        text-align: right;\n",
       "    }\n",
       "</style>\n",
       "<table border=\"1\" class=\"dataframe\">\n",
       "  <thead>\n",
       "    <tr style=\"text-align: right;\">\n",
       "      <th></th>\n",
       "      <th>month_date</th>\n",
       "      <th>price</th>\n",
       "      <th>%</th>\n",
       "      <th>color</th>\n",
       "    </tr>\n",
       "  </thead>\n",
       "  <tbody>\n",
       "    <tr>\n",
       "      <th>0</th>\n",
       "      <td>1</td>\n",
       "      <td>672923.17</td>\n",
       "      <td>NaN</td>\n",
       "      <td>positive</td>\n",
       "    </tr>\n",
       "    <tr>\n",
       "      <th>1</th>\n",
       "      <td>2</td>\n",
       "      <td>696714.42</td>\n",
       "      <td>0.04</td>\n",
       "      <td>positive</td>\n",
       "    </tr>\n",
       "    <tr>\n",
       "      <th>2</th>\n",
       "      <td>3</td>\n",
       "      <td>768495.10</td>\n",
       "      <td>0.10</td>\n",
       "      <td>positive</td>\n",
       "    </tr>\n",
       "    <tr>\n",
       "      <th>3</th>\n",
       "      <td>4</td>\n",
       "      <td>709751.99</td>\n",
       "      <td>-0.08</td>\n",
       "      <td>negative</td>\n",
       "    </tr>\n",
       "    <tr>\n",
       "      <th>4</th>\n",
       "      <td>5</td>\n",
       "      <td>689252.10</td>\n",
       "      <td>-0.03</td>\n",
       "      <td>negative</td>\n",
       "    </tr>\n",
       "    <tr>\n",
       "      <th>5</th>\n",
       "      <td>6</td>\n",
       "      <td>775057.56</td>\n",
       "      <td>0.12</td>\n",
       "      <td>positive</td>\n",
       "    </tr>\n",
       "    <tr>\n",
       "      <th>6</th>\n",
       "      <td>7</td>\n",
       "      <td>741405.04</td>\n",
       "      <td>-0.04</td>\n",
       "      <td>negative</td>\n",
       "    </tr>\n",
       "    <tr>\n",
       "      <th>7</th>\n",
       "      <td>8</td>\n",
       "      <td>737576.56</td>\n",
       "      <td>-0.01</td>\n",
       "      <td>negative</td>\n",
       "    </tr>\n",
       "    <tr>\n",
       "      <th>8</th>\n",
       "      <td>9</td>\n",
       "      <td>645246.89</td>\n",
       "      <td>-0.13</td>\n",
       "      <td>negative</td>\n",
       "    </tr>\n",
       "    <tr>\n",
       "      <th>9</th>\n",
       "      <td>10</td>\n",
       "      <td>645523.02</td>\n",
       "      <td>0.00</td>\n",
       "      <td>positive</td>\n",
       "    </tr>\n",
       "    <tr>\n",
       "      <th>10</th>\n",
       "      <td>11</td>\n",
       "      <td>679910.47</td>\n",
       "      <td>0.05</td>\n",
       "      <td>positive</td>\n",
       "    </tr>\n",
       "    <tr>\n",
       "      <th>11</th>\n",
       "      <td>12</td>\n",
       "      <td>728341.19</td>\n",
       "      <td>0.07</td>\n",
       "      <td>positive</td>\n",
       "    </tr>\n",
       "  </tbody>\n",
       "</table>\n",
       "</div>"
      ],
      "text/plain": [
       "    month_date     price     %     color\n",
       "0            1 672923.17   NaN  positive\n",
       "1            2 696714.42  0.04  positive\n",
       "2            3 768495.10  0.10  positive\n",
       "3            4 709751.99 -0.08  negative\n",
       "4            5 689252.10 -0.03  negative\n",
       "5            6 775057.56  0.12  positive\n",
       "6            7 741405.04 -0.04  negative\n",
       "7            8 737576.56 -0.01  negative\n",
       "8            9 645246.89 -0.13  negative\n",
       "9           10 645523.02  0.00  positive\n",
       "10          11 679910.47  0.05  positive\n",
       "11          12 728341.19  0.07  positive"
      ]
     },
     "execution_count": 20,
     "metadata": {},
     "output_type": "execute_result"
    }
   ],
   "source": [
    "df5 = data.loc[data['bathrooms'] == 3]\n",
    "df5_aux = df5.groupby('month_date')['price'].mean().reset_index()\n",
    "df5_aux['%'] = df5_aux['price'].pct_change()\n",
    "df5_aux['color'] = df5_aux['%'].apply(lambda x: 'negative' if x < 0 else 'positive')\n",
    "\n",
    "df5_aux"
   ]
  },
  {
   "cell_type": "code",
   "execution_count": 21,
   "id": "23407311",
   "metadata": {
    "ExecuteTime": {
     "end_time": "2021-12-19T15:46:46.335891Z",
     "start_time": "2021-12-19T15:46:45.720725Z"
    },
    "hidden": true
   },
   "outputs": [
    {
     "data": {
      "image/png": "[encoded data removed]",
      "text/plain": [
       "<Figure size 720x576 with 1 Axes>"
      ]
     },
     "metadata": {},
     "output_type": "display_data"
    }
   ],
   "source": [
    "plot_bar(df5_aux, 'month_date', '%', 'color',['Green', 'Red'])"
   ]
  },
  {
   "cell_type": "markdown",
   "id": "4b24c3f5",
   "metadata": {
    "heading_collapsed": true,
    "hidden": true
   },
   "source": [
    "## H6 - A maioria dos imóveis com vista para a água possuem estado de conservação \"good\"\n",
    "Falso"
   ]
  },
  {
   "cell_type": "code",
   "execution_count": 22,
   "id": "34086f20",
   "metadata": {
    "ExecuteTime": {
     "end_time": "2021-12-19T15:46:46.623642Z",
     "start_time": "2021-12-19T15:46:46.339086Z"
    },
    "hidden": true,
    "scrolled": false
   },
   "outputs": [
    {
     "name": "stdout",
     "output_type": "stream",
     "text": [
      "A quantidade de imóveis na condição \"bad\" é de 2\n",
      "A quantidade de imóveis na condição \"good\" é de 20\n",
      "A quantidade de imóveis na condição \"regular\" é de 141\n",
      "\n"
     ]
    },
    {
     "data": {
      "image/png": "[encoded data removed]",
      "text/plain": [
       "<Figure size 720x576 with 1 Axes>"
      ]
     },
     "metadata": {},
     "output_type": "display_data"
    }
   ],
   "source": [
    "df6 = data.loc[data['is_waterfront'] == 'yes']\n",
    "df6 = df6.groupby('condition_type')['id'].count().reset_index()\n",
    "\n",
    "lista_id = list(df6['id'])\n",
    "\n",
    "print(f'A quantidade de imóveis na condição \"bad\" é de {lista_id[0]}')\n",
    "print(f'A quantidade de imóveis na condição \"good\" é de {lista_id[1]}')\n",
    "print(f'A quantidade de imóveis na condição \"regular\" é de {lista_id[2]}''\\n')\n",
    "\n",
    "plot_bar(df6, 'id', 'condition_type')"
   ]
  },
  {
   "cell_type": "markdown",
   "id": "399824da",
   "metadata": {
    "heading_collapsed": true,
    "hidden": true
   },
   "source": [
    "## H7 - Imóveis mais novos possuem preço médio maior\n",
    "Verdadeiro"
   ]
  },
  {
   "cell_type": "code",
   "execution_count": 23,
   "id": "9d2392d8",
   "metadata": {
    "ExecuteTime": {
     "end_time": "2021-12-19T15:46:47.162773Z",
     "start_time": "2021-12-19T15:46:46.626920Z"
    },
    "hidden": true
   },
   "outputs": [
    {
     "name": "stdout",
     "output_type": "stream",
     "text": [
      "A quantidade de imóveis \"new\" é 4541 e média dos preços é 615314.92\n",
      "A quantidade de imóveis \"old\" é 17072 e a média dos preços é 520078.49\n",
      "\n"
     ]
    },
    {
     "data": {
      "image/png": "[encoded data removed]",
      "text/plain": [
       "<Figure size 1080x576 with 2 Axes>"
      ]
     },
     "metadata": {},
     "output_type": "display_data"
    }
   ],
   "source": [
    "new = len(data.loc[data['house_age'] == 'new'])\n",
    "old = len(data.loc[data['house_age'] == 'old'])\n",
    "new_mean = data.loc[data['house_age'] == 'new', 'price'].mean()\n",
    "old_mean = data.loc[data['house_age'] == 'old', 'price'].mean()\n",
    "\n",
    "print(f'A quantidade de imóveis \"new\" é {new} e média dos preços é {new_mean:.2f}')\n",
    "print(f'A quantidade de imóveis \"old\" é {old} e a média dos preços é {old_mean:.2f}''\\n')\n",
    "\n",
    "plot_count_bar(data, 'house_age', y='price')"
   ]
  },
  {
   "cell_type": "markdown",
   "id": "513eee66",
   "metadata": {
    "heading_collapsed": true,
    "hidden": true
   },
   "source": [
    "## H8 - Imóveis com 2 andares possuem preço médio maior que a mediana\n",
    "Verdadeiro"
   ]
  },
  {
   "cell_type": "code",
   "execution_count": 24,
   "id": "d05f291c",
   "metadata": {
    "ExecuteTime": {
     "end_time": "2021-12-19T15:46:47.177927Z",
     "start_time": "2021-12-19T15:46:47.166461Z"
    },
    "hidden": true
   },
   "outputs": [
    {
     "name": "stdout",
     "output_type": "stream",
     "text": [
      "Quantidade de imóveis com 2 andares: 8241\n",
      "\n",
      "A mediana dos preços de imóveis com 2 andares: 542950.00\n",
      "A média dos preços de imóveis com 2 andares: 648891.16\n",
      "\n"
     ]
    }
   ],
   "source": [
    "df8 = data.loc[data['floors'] == 2]\n",
    "df8_median = np.median(df8['price'])\n",
    "df8_mean =  np.mean(df8['price'])\n",
    "\n",
    "print(f'Quantidade de imóveis com 2 andares: {len(df8)}')\n",
    "\n",
    "print('\\n'f'A mediana dos preços de imóveis com 2 andares: {df8_median:.2f}')\n",
    "print(f'A média dos preços de imóveis com 2 andares: {df8_mean:.2f}''\\n')"
   ]
  },
  {
   "cell_type": "markdown",
   "id": "a26ebbfc",
   "metadata": {
    "heading_collapsed": true,
    "hidden": true
   },
   "source": [
    "## H9 - Imóvel antigo com reforma feita, são mais caros que aqueles sem reforma\n",
    "Verdadeiro"
   ]
  },
  {
   "cell_type": "code",
   "execution_count": 25,
   "id": "737a7ffb",
   "metadata": {
    "ExecuteTime": {
     "end_time": "2021-12-19T15:46:47.549236Z",
     "start_time": "2021-12-19T15:46:47.180471Z"
    },
    "hidden": true
   },
   "outputs": [
    {
     "name": "stdout",
     "output_type": "stream",
     "text": [
      "\n",
      "Imóveis antigos com reforma, são 50.11% mais caros que aqueles sem reforma.\n",
      "\n"
     ]
    },
    {
     "data": {
      "image/png": "[encoded data removed]",
      "text/plain": [
       "<Figure size 720x576 with 1 Axes>"
      ]
     },
     "metadata": {},
     "output_type": "display_data"
    }
   ],
   "source": [
    "df9 = data.loc[(data['house_age'] == 'old')]\n",
    "df9_aux = df9.groupby('is_renovated')['price'].mean().reset_index()\n",
    "df9_aux['%'] = df9_aux['price'].pct_change()\n",
    "\n",
    "porc_df9 = (df9_aux['%'][1])*100\n",
    "\n",
    "print('\\n'f'Imóveis antigos com reforma, são {porc_df9:.2f}% mais caros que aqueles sem reforma.''\\n')\n",
    "\n",
    "plot_bar(df9, 'is_renovated', 'price')"
   ]
  },
  {
   "cell_type": "markdown",
   "id": "9bc7c37b",
   "metadata": {
    "heading_collapsed": true,
    "hidden": true
   },
   "source": [
    "## H10 - A maioria dos imóveis do tipo \"apartament\" possuem estado de conservação \"good\" \n",
    "Falso"
   ]
  },
  {
   "cell_type": "code",
   "execution_count": 26,
   "id": "19e6fc44",
   "metadata": {
    "ExecuteTime": {
     "end_time": "2021-12-19T15:46:49.538128Z",
     "start_time": "2021-12-19T15:46:47.552077Z"
    },
    "hidden": true
   },
   "outputs": [
    {
     "name": "stdout",
     "output_type": "stream",
     "text": [
      "\n",
      "A quantidade de imóveis do tipo \"apartament\" em condições \"bad\": 63\n",
      "A quantidade de imóveis do tipo \"apartament\" em condições \"regular\": 200\n",
      "A quantidade de imóveis do tipo \"apartament\" em condições \"good\": 2497\n",
      "\n"
     ]
    },
    {
     "data": {
      "image/png": "[encoded data removed]",
      "text/plain": [
       "<Figure size 1080x576 with 2 Axes>"
      ]
     },
     "metadata": {},
     "output_type": "display_data"
    }
   ],
   "source": [
    "df10 = data.loc[data['domitory_type'] == 'apartament']\n",
    "df10_aux = df10.groupby('condition_type')['id'].count().reset_index()\n",
    "\n",
    "df10_count = list(df10_aux['id'])\n",
    "\n",
    "print('\\n'f'A quantidade de imóveis do tipo \"apartament\" em condições \"bad\": {df10_count[0]}')\n",
    "print(f'A quantidade de imóveis do tipo \"apartament\" em condições \"regular\": {df10_count[1]}')\n",
    "print(f'A quantidade de imóveis do tipo \"apartament\" em condições \"good\": {df10_count[2]}''\\n')\n",
    "\n",
    "plot_count_hist(df10, 'condition_type', 'price', 'condition_type')"
   ]
  },
  {
   "cell_type": "markdown",
   "id": "13ee4da2",
   "metadata": {
    "heading_collapsed": true,
    "hidden": true
   },
   "source": [
    "## Hypotheses result "
   ]
  },
  {
   "cell_type": "code",
   "execution_count": 27,
   "id": "0b8d9b37",
   "metadata": {
    "ExecuteTime": {
     "end_time": "2021-12-19T15:46:49.554884Z",
     "start_time": "2021-12-19T15:46:49.540506Z"
    },
    "hidden": true
   },
   "outputs": [
    {
     "name": "stdout",
     "output_type": "stream",
     "text": [
      "Hypotheses    Conclusion    Relevance\n",
      "------------  ------------  -----------\n",
      "H1            Falsa         Alta\n",
      "H2            Falsa         Alta\n",
      "H3            Falso         Média\n",
      "H4            Falso         Alta\n",
      "H5            Falso         Alta\n",
      "H6            Falso         Baixa\n",
      "H7            Verdadeira    Baixo\n",
      "H8            Verdadeira    Médio\n",
      "H9            Verdadeira    Alta\n",
      "H10           Falso         Media\n"
     ]
    }
   ],
   "source": [
    "tab = [['Hypotheses', 'Conclusion', 'Relevance'],\n",
    "       ['H1', 'Falsa', 'Alta'],\n",
    "       ['H2', 'Falsa', 'Alta'],\n",
    "       ['H3', 'Falso', 'Média'],\n",
    "       ['H4', 'Falso', 'Alta'],\n",
    "       ['H5', 'Falso', 'Alta'],\n",
    "       ['H6', 'Falso', 'Baixa'],\n",
    "       ['H7', 'Verdadeira', 'Baixo'],\n",
    "       ['H8', 'Verdadeira', 'Médio'],\n",
    "       ['H9', 'Verdadeira', 'Alta'],\n",
    "       ['H10', 'Falso', 'Media']\n",
    "      ]\n",
    "print(tabulate(tab, headers='firstrow'))"
   ]
  },
  {
   "cell_type": "code",
   "execution_count": null,
   "id": "05d20be8",
   "metadata": {
    "hidden": true
   },
   "outputs": [],
   "source": []
  }
 ],
 "metadata": {
  "kernelspec": {
   "display_name": "Python 3 (ipykernel)",
   "language": "python",
   "name": "python3"
  },
  "language_info": {
   "codemirror_mode": {
    "name": "ipython",
    "version": 3
   },
   "file_extension": ".py",
   "mimetype": "text/x-python",
   "name": "python",
   "nbconvert_exporter": "python",
   "pygments_lexer": "ipython3",
   "version": "3.9.7"
  }
 },
 "nbformat": 4,
 "nbformat_minor": 5
}
